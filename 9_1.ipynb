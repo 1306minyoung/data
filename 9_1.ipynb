{
  "nbformat": 4,
  "nbformat_minor": 0,
  "metadata": {
    "colab": {
      "provenance": [],
      "authorship_tag": "ABX9TyNQD3ojOmVdPLzs+etFtl+C",
      "include_colab_link": true
    },
    "kernelspec": {
      "name": "python3",
      "display_name": "Python 3"
    },
    "language_info": {
      "name": "python"
    }
  },
  "cells": [
    {
      "cell_type": "markdown",
      "metadata": {
        "id": "view-in-github",
        "colab_type": "text"
      },
      "source": [
        "<a href=\"https://colab.research.google.com/github/1306minyoung/data/blob/main/9_1.ipynb\" target=\"_parent\"><img src=\"https://colab.research.google.com/assets/colab-badge.svg\" alt=\"Open In Colab\"/></a>"
      ]
    },
    {
      "cell_type": "markdown",
      "source": [
        "#순차 데이터\n",
        "\n",
        "순차 데이터: 순서에 의미가 있는 데이터. 이전에 입력한 데이터를 기억하는 기능이 필요\n",
        "\n",
        "피드포워드 신경망: 입력 데이터의 흐름이 아픙로만 전달되는 신경망(ex. 완전 연결 신경망, 합성곱 신경망)\n",
        "\n",
        "순환 신경망: 데이터의 흐름이 앞으로만 전달되어서는 곤란. 다음 샘플을 위해서 이전 데이터가 신경망 층에 순환될 필요가 있어 만들어진 신경망\n",
        "\n",
        "타임 스텝: 샘플을 처리하는 한 단계\n",
        "\n",
        "셀: 순환 신경망에서의 층\n",
        "\n",
        "은닉 상태: 셀의 출력"
      ],
      "metadata": {
        "id": "KhxHh_fz3_CF"
      }
    }
  ]
}