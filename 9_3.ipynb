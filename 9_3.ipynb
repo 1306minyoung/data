{
  "nbformat": 4,
  "nbformat_minor": 0,
  "metadata": {
    "colab": {
      "provenance": [],
      "authorship_tag": "ABX9TyNEwjlUnkoU+JmwUlwj1FS9",
      "include_colab_link": true
    },
    "kernelspec": {
      "name": "python3",
      "display_name": "Python 3"
    },
    "language_info": {
      "name": "python"
    }
  },
  "cells": [
    {
      "cell_type": "markdown",
      "metadata": {
        "id": "view-in-github",
        "colab_type": "text"
      },
      "source": [
        "<a href=\"https://colab.research.google.com/github/1306minyoung/data/blob/main/9_3.ipynb\" target=\"_parent\"><img src=\"https://colab.research.google.com/assets/colab-badge.svg\" alt=\"Open In Colab\"/></a>"
      ]
    },
    {
      "cell_type": "markdown",
      "source": [
        "# LSTM과 GRU 셀"
      ],
      "metadata": {
        "id": "1z1ltg0brO9i"
      }
    },
    {
      "cell_type": "markdown",
      "source": [
        "## LSTM 신경망 훈련하기"
      ],
      "metadata": {
        "id": "yyWK7fgBrSE0"
      }
    },
    {
      "cell_type": "code",
      "source": [
        "from tensorflow.keras.datasets import imdb\n",
        "from sklearn.model_selection import train_test_split\n",
        "\n",
        "(train_input, train_target), (test_input, test_target) = imdb.load_data(\n",
        "    num_words=500)\n",
        "\n",
        "train_input, val_input, train_target, val_target = train_test_split(\n",
        "    train_input, train_target, test_size=0.2, random_state=42)"
      ],
      "metadata": {
        "colab": {
          "base_uri": "https://localhost:8080/"
        },
        "id": "tL5Nk3GwrQCp",
        "outputId": "628670ad-b9a7-452a-eb94-031257319ab9"
      },
      "execution_count": 1,
      "outputs": [
        {
          "output_type": "stream",
          "name": "stdout",
          "text": [
            "Downloading data from https://storage.googleapis.com/tensorflow/tf-keras-datasets/imdb.npz\n",
            "17464789/17464789 [==============================] - 1s 0us/step\n"
          ]
        }
      ]
    },
    {
      "cell_type": "code",
      "source": [
        "from tensorflow.keras.preprocessing.sequence import pad_sequences\n",
        "\n",
        "train_seq = pad_sequences(train_input, maxlen=100)\n",
        "val_seq = pad_sequences(val_input, maxlen=100)"
      ],
      "metadata": {
        "id": "Y41l6PM8rVCt"
      },
      "execution_count": 2,
      "outputs": []
    },
    {
      "cell_type": "code",
      "source": [
        "from tensorflow import keras\n",
        "\n",
        "model = keras.Sequential()\n",
        "\n",
        "model.add(keras.layers.Embedding(500, 16, input_length=100))\n",
        "model.add(keras.layers.LSTM(8))\n",
        "model.add(keras.layers.Dense(1, activation='sigmoid'))\n",
        "\n",
        "model.summary()"
      ],
      "metadata": {
        "colab": {
          "base_uri": "https://localhost:8080/"
        },
        "id": "ria7MDjwrV8b",
        "outputId": "bafcf54a-d39f-4475-fff1-3b07b0cb64b5"
      },
      "execution_count": 3,
      "outputs": [
        {
          "output_type": "stream",
          "name": "stdout",
          "text": [
            "Model: \"sequential\"\n",
            "_________________________________________________________________\n",
            " Layer (type)                Output Shape              Param #   \n",
            "=================================================================\n",
            " embedding (Embedding)       (None, 100, 16)           8000      \n",
            "                                                                 \n",
            " lstm (LSTM)                 (None, 8)                 800       \n",
            "                                                                 \n",
            " dense (Dense)               (None, 1)                 9         \n",
            "                                                                 \n",
            "=================================================================\n",
            "Total params: 8809 (34.41 KB)\n",
            "Trainable params: 8809 (34.41 KB)\n",
            "Non-trainable params: 0 (0.00 Byte)\n",
            "_________________________________________________________________\n"
          ]
        }
      ]
    },
    {
      "cell_type": "code",
      "source": [
        "rmsprop = keras.optimizers.RMSprop(learning_rate=1e-4)\n",
        "model.compile(optimizer=rmsprop, loss='binary_crossentropy',\n",
        "              metrics=['accuracy'])\n",
        "\n",
        "checkpoint_cb = keras.callbacks.ModelCheckpoint('best-lstm-model.h5',\n",
        "                                                save_best_only=True)\n",
        "early_stopping_cb = keras.callbacks.EarlyStopping(patience=3,\n",
        "                                                  restore_best_weights=True)\n",
        "\n",
        "history = model.fit(train_seq, train_target, epochs=100, batch_size=64,\n",
        "                    validation_data=(val_seq, val_target),\n",
        "                    callbacks=[checkpoint_cb, early_stopping_cb])"
      ],
      "metadata": {
        "colab": {
          "base_uri": "https://localhost:8080/"
        },
        "id": "Wt1kG3ERrWxd",
        "outputId": "947ac7a0-e30a-4e0a-96b7-e59aeb289805"
      },
      "execution_count": 4,
      "outputs": [
        {
          "output_type": "stream",
          "name": "stdout",
          "text": [
            "Epoch 1/100\n",
            "313/313 [==============================] - 36s 96ms/step - loss: 0.6929 - accuracy: 0.5168 - val_loss: 0.6928 - val_accuracy: 0.5068\n",
            "Epoch 2/100\n"
          ]
        },
        {
          "output_type": "stream",
          "name": "stderr",
          "text": [
            "/usr/local/lib/python3.10/dist-packages/keras/src/engine/training.py:3079: UserWarning: You are saving your model as an HDF5 file via `model.save()`. This file format is considered legacy. We recommend using instead the native Keras format, e.g. `model.save('my_model.keras')`.\n",
            "  saving_api.save_model(\n"
          ]
        },
        {
          "output_type": "stream",
          "name": "stdout",
          "text": [
            "313/313 [==============================] - 26s 82ms/step - loss: 0.6922 - accuracy: 0.5615 - val_loss: 0.6920 - val_accuracy: 0.5566\n",
            "Epoch 3/100\n",
            "313/313 [==============================] - 19s 60ms/step - loss: 0.6910 - accuracy: 0.6016 - val_loss: 0.6905 - val_accuracy: 0.5954\n",
            "Epoch 4/100\n",
            "313/313 [==============================] - 16s 52ms/step - loss: 0.6886 - accuracy: 0.6327 - val_loss: 0.6869 - val_accuracy: 0.6398\n",
            "Epoch 5/100\n",
            "313/313 [==============================] - 15s 47ms/step - loss: 0.6794 - accuracy: 0.6701 - val_loss: 0.6670 - val_accuracy: 0.6850\n",
            "Epoch 6/100\n",
            "313/313 [==============================] - 14s 46ms/step - loss: 0.6392 - accuracy: 0.6967 - val_loss: 0.6244 - val_accuracy: 0.6976\n",
            "Epoch 7/100\n",
            "313/313 [==============================] - 15s 48ms/step - loss: 0.6078 - accuracy: 0.7153 - val_loss: 0.5995 - val_accuracy: 0.7176\n",
            "Epoch 8/100\n",
            "313/313 [==============================] - 14s 46ms/step - loss: 0.5817 - accuracy: 0.7380 - val_loss: 0.5737 - val_accuracy: 0.7404\n",
            "Epoch 9/100\n",
            "313/313 [==============================] - 15s 47ms/step - loss: 0.5557 - accuracy: 0.7586 - val_loss: 0.5485 - val_accuracy: 0.7580\n",
            "Epoch 10/100\n",
            "313/313 [==============================] - 14s 45ms/step - loss: 0.5310 - accuracy: 0.7743 - val_loss: 0.5278 - val_accuracy: 0.7724\n",
            "Epoch 11/100\n",
            "313/313 [==============================] - 17s 53ms/step - loss: 0.5114 - accuracy: 0.7825 - val_loss: 0.5110 - val_accuracy: 0.7764\n",
            "Epoch 12/100\n",
            "313/313 [==============================] - 14s 46ms/step - loss: 0.4960 - accuracy: 0.7883 - val_loss: 0.4992 - val_accuracy: 0.7812\n",
            "Epoch 13/100\n",
            "313/313 [==============================] - 14s 45ms/step - loss: 0.4842 - accuracy: 0.7914 - val_loss: 0.4915 - val_accuracy: 0.7810\n",
            "Epoch 14/100\n",
            "313/313 [==============================] - 15s 47ms/step - loss: 0.4753 - accuracy: 0.7963 - val_loss: 0.4896 - val_accuracy: 0.7810\n",
            "Epoch 15/100\n",
            "313/313 [==============================] - 15s 47ms/step - loss: 0.4673 - accuracy: 0.7972 - val_loss: 0.4802 - val_accuracy: 0.7872\n",
            "Epoch 16/100\n",
            "313/313 [==============================] - 14s 45ms/step - loss: 0.4608 - accuracy: 0.8008 - val_loss: 0.4789 - val_accuracy: 0.7800\n",
            "Epoch 17/100\n",
            "313/313 [==============================] - 14s 46ms/step - loss: 0.4560 - accuracy: 0.8019 - val_loss: 0.4731 - val_accuracy: 0.7856\n",
            "Epoch 18/100\n",
            "313/313 [==============================] - 15s 48ms/step - loss: 0.4510 - accuracy: 0.8052 - val_loss: 0.4707 - val_accuracy: 0.7804\n",
            "Epoch 19/100\n",
            "313/313 [==============================] - 15s 49ms/step - loss: 0.4471 - accuracy: 0.8051 - val_loss: 0.4666 - val_accuracy: 0.7836\n",
            "Epoch 20/100\n",
            "313/313 [==============================] - 15s 49ms/step - loss: 0.4430 - accuracy: 0.8074 - val_loss: 0.4652 - val_accuracy: 0.7886\n",
            "Epoch 21/100\n",
            "313/313 [==============================] - 18s 57ms/step - loss: 0.4401 - accuracy: 0.8079 - val_loss: 0.4596 - val_accuracy: 0.7882\n",
            "Epoch 22/100\n",
            "313/313 [==============================] - 14s 46ms/step - loss: 0.4371 - accuracy: 0.8099 - val_loss: 0.4581 - val_accuracy: 0.7910\n",
            "Epoch 23/100\n",
            "313/313 [==============================] - 14s 45ms/step - loss: 0.4340 - accuracy: 0.8104 - val_loss: 0.4602 - val_accuracy: 0.7850\n",
            "Epoch 24/100\n",
            "313/313 [==============================] - 14s 45ms/step - loss: 0.4312 - accuracy: 0.8115 - val_loss: 0.4538 - val_accuracy: 0.7892\n",
            "Epoch 25/100\n",
            "313/313 [==============================] - 14s 45ms/step - loss: 0.4302 - accuracy: 0.8110 - val_loss: 0.4527 - val_accuracy: 0.7884\n",
            "Epoch 26/100\n",
            "313/313 [==============================] - 15s 48ms/step - loss: 0.4277 - accuracy: 0.8125 - val_loss: 0.4490 - val_accuracy: 0.7946\n",
            "Epoch 27/100\n",
            "313/313 [==============================] - 15s 48ms/step - loss: 0.4255 - accuracy: 0.8130 - val_loss: 0.4520 - val_accuracy: 0.7910\n",
            "Epoch 28/100\n",
            "313/313 [==============================] - 15s 48ms/step - loss: 0.4245 - accuracy: 0.8141 - val_loss: 0.4457 - val_accuracy: 0.7970\n",
            "Epoch 29/100\n",
            "313/313 [==============================] - 15s 48ms/step - loss: 0.4230 - accuracy: 0.8134 - val_loss: 0.4464 - val_accuracy: 0.7952\n",
            "Epoch 30/100\n",
            "313/313 [==============================] - 15s 48ms/step - loss: 0.4219 - accuracy: 0.8142 - val_loss: 0.4432 - val_accuracy: 0.7972\n",
            "Epoch 31/100\n",
            "313/313 [==============================] - 15s 48ms/step - loss: 0.4202 - accuracy: 0.8151 - val_loss: 0.4452 - val_accuracy: 0.7952\n",
            "Epoch 32/100\n",
            "313/313 [==============================] - 14s 46ms/step - loss: 0.4186 - accuracy: 0.8153 - val_loss: 0.4520 - val_accuracy: 0.7872\n",
            "Epoch 33/100\n",
            "313/313 [==============================] - 15s 49ms/step - loss: 0.4176 - accuracy: 0.8160 - val_loss: 0.4408 - val_accuracy: 0.7972\n",
            "Epoch 34/100\n",
            "313/313 [==============================] - 15s 48ms/step - loss: 0.4165 - accuracy: 0.8163 - val_loss: 0.4388 - val_accuracy: 0.7988\n",
            "Epoch 35/100\n",
            "313/313 [==============================] - 15s 48ms/step - loss: 0.4157 - accuracy: 0.8174 - val_loss: 0.4377 - val_accuracy: 0.7984\n",
            "Epoch 36/100\n",
            "313/313 [==============================] - 15s 48ms/step - loss: 0.4144 - accuracy: 0.8170 - val_loss: 0.4404 - val_accuracy: 0.7944\n",
            "Epoch 37/100\n",
            "313/313 [==============================] - 18s 56ms/step - loss: 0.4136 - accuracy: 0.8167 - val_loss: 0.4391 - val_accuracy: 0.7956\n",
            "Epoch 38/100\n",
            "313/313 [==============================] - 14s 45ms/step - loss: 0.4123 - accuracy: 0.8174 - val_loss: 0.4356 - val_accuracy: 0.7980\n",
            "Epoch 39/100\n",
            "313/313 [==============================] - 14s 44ms/step - loss: 0.4110 - accuracy: 0.8171 - val_loss: 0.4341 - val_accuracy: 0.8020\n",
            "Epoch 40/100\n",
            "313/313 [==============================] - 14s 45ms/step - loss: 0.4101 - accuracy: 0.8188 - val_loss: 0.4330 - val_accuracy: 0.7986\n",
            "Epoch 41/100\n",
            "313/313 [==============================] - 15s 47ms/step - loss: 0.4091 - accuracy: 0.8199 - val_loss: 0.4341 - val_accuracy: 0.7966\n",
            "Epoch 42/100\n",
            "313/313 [==============================] - 15s 47ms/step - loss: 0.4081 - accuracy: 0.8192 - val_loss: 0.4355 - val_accuracy: 0.8046\n",
            "Epoch 43/100\n",
            "313/313 [==============================] - 14s 45ms/step - loss: 0.4074 - accuracy: 0.8199 - val_loss: 0.4315 - val_accuracy: 0.8030\n",
            "Epoch 44/100\n",
            "313/313 [==============================] - 15s 48ms/step - loss: 0.4063 - accuracy: 0.8203 - val_loss: 0.4357 - val_accuracy: 0.8046\n",
            "Epoch 45/100\n",
            "313/313 [==============================] - 15s 48ms/step - loss: 0.4056 - accuracy: 0.8200 - val_loss: 0.4302 - val_accuracy: 0.8010\n",
            "Epoch 46/100\n",
            "313/313 [==============================] - 15s 48ms/step - loss: 0.4048 - accuracy: 0.8203 - val_loss: 0.4376 - val_accuracy: 0.8028\n",
            "Epoch 47/100\n",
            "313/313 [==============================] - 15s 48ms/step - loss: 0.4035 - accuracy: 0.8214 - val_loss: 0.4300 - val_accuracy: 0.8036\n",
            "Epoch 48/100\n",
            "313/313 [==============================] - 15s 46ms/step - loss: 0.4031 - accuracy: 0.8223 - val_loss: 0.4285 - val_accuracy: 0.8030\n",
            "Epoch 49/100\n",
            "313/313 [==============================] - 15s 46ms/step - loss: 0.4020 - accuracy: 0.8220 - val_loss: 0.4311 - val_accuracy: 0.8070\n",
            "Epoch 50/100\n",
            "313/313 [==============================] - 15s 48ms/step - loss: 0.4009 - accuracy: 0.8210 - val_loss: 0.4329 - val_accuracy: 0.7974\n",
            "Epoch 51/100\n",
            "313/313 [==============================] - 15s 48ms/step - loss: 0.4000 - accuracy: 0.8223 - val_loss: 0.4300 - val_accuracy: 0.7986\n"
          ]
        }
      ]
    },
    {
      "cell_type": "code",
      "source": [
        "import matplotlib.pyplot as plt\n",
        "\n",
        "plt.plot(history.history['loss'])\n",
        "plt.plot(history.history['val_loss'])\n",
        "plt.xlabel('epoch')\n",
        "plt.ylabel('loss')\n",
        "plt.legend(['train', 'val'])\n",
        "plt.show()"
      ],
      "metadata": {
        "colab": {
          "base_uri": "https://localhost:8080/",
          "height": 449
        },
        "id": "1KfJTNcurXyV",
        "outputId": "9a39082a-8d27-4240-e371-aa015457871b"
      },
      "execution_count": 5,
      "outputs": [
        {
          "output_type": "display_data",
          "data": {
            "text/plain": [
              "<Figure size 640x480 with 1 Axes>"
            ],
            "image/png": "[encoded data removed]"
          },
          "metadata": {}
        }
      ]
    },
    {
      "cell_type": "markdown",
      "source": [
        "##순환 층에 드롭아웃 적용하기"
      ],
      "metadata": {
        "id": "QRm70s1qrZxR"
      }
    },
    {
      "cell_type": "code",
      "source": [
        "model2 = keras.Sequential()\n",
        "\n",
        "model2.add(keras.layers.Embedding(500, 16, input_length=100))\n",
        "model2.add(keras.layers.LSTM(8, dropout=0.3))\n",
        "model2.add(keras.layers.Dense(1, activation='sigmoid'))"
      ],
      "metadata": {
        "id": "bAHwIyZ7rY3V"
      },
      "execution_count": 6,
      "outputs": []
    },
    {
      "cell_type": "code",
      "source": [
        "rmsprop = keras.optimizers.RMSprop(learning_rate=1e-4)\n",
        "model2.compile(optimizer=rmsprop, loss='binary_crossentropy',\n",
        "               metrics=['accuracy'])\n",
        "\n",
        "checkpoint_cb = keras.callbacks.ModelCheckpoint('best-dropout-model.h5',\n",
        "                                                save_best_only=True)\n",
        "early_stopping_cb = keras.callbacks.EarlyStopping(patience=3,\n",
        "                                                  restore_best_weights=True)\n",
        "\n",
        "history = model2.fit(train_seq, train_target, epochs=100, batch_size=64,\n",
        "                     validation_data=(val_seq, val_target),\n",
        "                     callbacks=[checkpoint_cb, early_stopping_cb])"
      ],
      "metadata": {
        "colab": {
          "base_uri": "https://localhost:8080/"
        },
        "id": "fgFswJCvrdSt",
        "outputId": "209fae61-463c-4e3b-f703-7159994d028a"
      },
      "execution_count": 7,
      "outputs": [
        {
          "output_type": "stream",
          "name": "stdout",
          "text": [
            "Epoch 1/100\n",
            "313/313 [==============================] - 22s 60ms/step - loss: 0.6927 - accuracy: 0.5254 - val_loss: 0.6919 - val_accuracy: 0.5830\n",
            "Epoch 2/100\n",
            "313/313 [==============================] - 15s 49ms/step - loss: 0.6908 - accuracy: 0.5849 - val_loss: 0.6893 - val_accuracy: 0.6296\n",
            "Epoch 3/100\n",
            "313/313 [==============================] - 15s 49ms/step - loss: 0.6859 - accuracy: 0.6270 - val_loss: 0.6803 - val_accuracy: 0.6756\n",
            "Epoch 4/100\n",
            "313/313 [==============================] - 16s 50ms/step - loss: 0.6591 - accuracy: 0.6917 - val_loss: 0.6287 - val_accuracy: 0.7042\n",
            "Epoch 5/100\n",
            "313/313 [==============================] - 15s 48ms/step - loss: 0.6175 - accuracy: 0.7038 - val_loss: 0.6049 - val_accuracy: 0.7134\n",
            "Epoch 6/100\n",
            "313/313 [==============================] - 16s 50ms/step - loss: 0.5970 - accuracy: 0.7218 - val_loss: 0.5879 - val_accuracy: 0.7238\n",
            "Epoch 7/100\n",
            "313/313 [==============================] - 16s 50ms/step - loss: 0.5795 - accuracy: 0.7325 - val_loss: 0.5679 - val_accuracy: 0.7460\n",
            "Epoch 8/100\n",
            "313/313 [==============================] - 16s 50ms/step - loss: 0.5603 - accuracy: 0.7494 - val_loss: 0.5509 - val_accuracy: 0.7572\n",
            "Epoch 9/100\n",
            "313/313 [==============================] - 16s 50ms/step - loss: 0.5438 - accuracy: 0.7589 - val_loss: 0.5354 - val_accuracy: 0.7638\n",
            "Epoch 10/100\n",
            "313/313 [==============================] - 16s 50ms/step - loss: 0.5294 - accuracy: 0.7668 - val_loss: 0.5220 - val_accuracy: 0.7732\n",
            "Epoch 11/100\n",
            "313/313 [==============================] - 16s 50ms/step - loss: 0.5131 - accuracy: 0.7758 - val_loss: 0.5093 - val_accuracy: 0.7744\n",
            "Epoch 12/100\n",
            "313/313 [==============================] - 16s 50ms/step - loss: 0.5012 - accuracy: 0.7806 - val_loss: 0.4980 - val_accuracy: 0.7780\n",
            "Epoch 13/100\n",
            "313/313 [==============================] - 16s 50ms/step - loss: 0.4889 - accuracy: 0.7851 - val_loss: 0.4903 - val_accuracy: 0.7788\n",
            "Epoch 14/100\n",
            "313/313 [==============================] - 16s 50ms/step - loss: 0.4790 - accuracy: 0.7905 - val_loss: 0.4828 - val_accuracy: 0.7854\n",
            "Epoch 15/100\n",
            "313/313 [==============================] - 15s 48ms/step - loss: 0.4700 - accuracy: 0.7923 - val_loss: 0.4721 - val_accuracy: 0.7882\n",
            "Epoch 16/100\n",
            "313/313 [==============================] - 16s 50ms/step - loss: 0.4630 - accuracy: 0.7951 - val_loss: 0.4649 - val_accuracy: 0.7910\n",
            "Epoch 17/100\n",
            "313/313 [==============================] - 18s 57ms/step - loss: 0.4574 - accuracy: 0.7968 - val_loss: 0.4593 - val_accuracy: 0.7932\n",
            "Epoch 18/100\n",
            "313/313 [==============================] - 16s 50ms/step - loss: 0.4500 - accuracy: 0.8009 - val_loss: 0.4567 - val_accuracy: 0.7944\n",
            "Epoch 19/100\n",
            "313/313 [==============================] - 15s 49ms/step - loss: 0.4464 - accuracy: 0.8005 - val_loss: 0.4546 - val_accuracy: 0.7922\n",
            "Epoch 20/100\n",
            "313/313 [==============================] - 16s 50ms/step - loss: 0.4401 - accuracy: 0.8025 - val_loss: 0.4487 - val_accuracy: 0.7968\n",
            "Epoch 21/100\n",
            "313/313 [==============================] - 15s 49ms/step - loss: 0.4387 - accuracy: 0.8034 - val_loss: 0.4477 - val_accuracy: 0.7978\n",
            "Epoch 22/100\n",
            "313/313 [==============================] - 16s 50ms/step - loss: 0.4349 - accuracy: 0.8039 - val_loss: 0.4456 - val_accuracy: 0.7948\n",
            "Epoch 23/100\n",
            "313/313 [==============================] - 15s 48ms/step - loss: 0.4340 - accuracy: 0.8059 - val_loss: 0.4442 - val_accuracy: 0.7982\n",
            "Epoch 24/100\n",
            "313/313 [==============================] - 15s 49ms/step - loss: 0.4327 - accuracy: 0.8058 - val_loss: 0.4418 - val_accuracy: 0.8000\n",
            "Epoch 25/100\n",
            "313/313 [==============================] - 15s 49ms/step - loss: 0.4283 - accuracy: 0.8084 - val_loss: 0.4444 - val_accuracy: 0.7982\n",
            "Epoch 26/100\n",
            "313/313 [==============================] - 15s 48ms/step - loss: 0.4288 - accuracy: 0.8058 - val_loss: 0.4392 - val_accuracy: 0.7992\n",
            "Epoch 27/100\n",
            "313/313 [==============================] - 15s 48ms/step - loss: 0.4270 - accuracy: 0.8060 - val_loss: 0.4399 - val_accuracy: 0.7930\n",
            "Epoch 28/100\n",
            "313/313 [==============================] - 16s 50ms/step - loss: 0.4251 - accuracy: 0.8053 - val_loss: 0.4383 - val_accuracy: 0.7990\n",
            "Epoch 29/100\n",
            "313/313 [==============================] - 16s 50ms/step - loss: 0.4228 - accuracy: 0.8083 - val_loss: 0.4368 - val_accuracy: 0.7994\n",
            "Epoch 30/100\n",
            "313/313 [==============================] - 16s 50ms/step - loss: 0.4232 - accuracy: 0.8066 - val_loss: 0.4409 - val_accuracy: 0.8010\n",
            "Epoch 31/100\n",
            "313/313 [==============================] - 16s 50ms/step - loss: 0.4226 - accuracy: 0.8073 - val_loss: 0.4365 - val_accuracy: 0.8002\n",
            "Epoch 32/100\n",
            "313/313 [==============================] - 18s 57ms/step - loss: 0.4212 - accuracy: 0.8067 - val_loss: 0.4356 - val_accuracy: 0.8026\n",
            "Epoch 33/100\n",
            "313/313 [==============================] - 16s 51ms/step - loss: 0.4222 - accuracy: 0.8054 - val_loss: 0.4349 - val_accuracy: 0.7974\n",
            "Epoch 34/100\n",
            "313/313 [==============================] - 16s 50ms/step - loss: 0.4187 - accuracy: 0.8108 - val_loss: 0.4345 - val_accuracy: 0.8016\n",
            "Epoch 35/100\n",
            "313/313 [==============================] - 15s 49ms/step - loss: 0.4178 - accuracy: 0.8101 - val_loss: 0.4342 - val_accuracy: 0.8012\n",
            "Epoch 36/100\n",
            "313/313 [==============================] - 16s 50ms/step - loss: 0.4171 - accuracy: 0.8086 - val_loss: 0.4343 - val_accuracy: 0.8020\n",
            "Epoch 37/100\n",
            "313/313 [==============================] - 15s 48ms/step - loss: 0.4186 - accuracy: 0.8091 - val_loss: 0.4338 - val_accuracy: 0.8036\n",
            "Epoch 38/100\n",
            "313/313 [==============================] - 16s 50ms/step - loss: 0.4163 - accuracy: 0.8104 - val_loss: 0.4334 - val_accuracy: 0.8018\n",
            "Epoch 39/100\n",
            "313/313 [==============================] - 16s 50ms/step - loss: 0.4159 - accuracy: 0.8098 - val_loss: 0.4331 - val_accuracy: 0.8018\n",
            "Epoch 40/100\n",
            "313/313 [==============================] - 16s 50ms/step - loss: 0.4146 - accuracy: 0.8134 - val_loss: 0.4331 - val_accuracy: 0.7998\n",
            "Epoch 41/100\n",
            "313/313 [==============================] - 16s 50ms/step - loss: 0.4142 - accuracy: 0.8094 - val_loss: 0.4334 - val_accuracy: 0.8008\n",
            "Epoch 42/100\n",
            "313/313 [==============================] - 16s 50ms/step - loss: 0.4138 - accuracy: 0.8126 - val_loss: 0.4338 - val_accuracy: 0.8032\n",
            "Epoch 43/100\n",
            "313/313 [==============================] - 16s 51ms/step - loss: 0.4129 - accuracy: 0.8126 - val_loss: 0.4345 - val_accuracy: 0.8032\n"
          ]
        }
      ]
    },
    {
      "cell_type": "code",
      "source": [
        "plt.plot(history.history['loss'])\n",
        "plt.plot(history.history['val_loss'])\n",
        "plt.xlabel('epoch')\n",
        "plt.ylabel('loss')\n",
        "plt.legend(['train', 'val'])\n",
        "plt.show()"
      ],
      "metadata": {
        "colab": {
          "base_uri": "https://localhost:8080/",
          "height": 449
        },
        "id": "SceIXMYCreAd",
        "outputId": "2ba14148-bf1a-489e-d628-a64496d159ea"
      },
      "execution_count": 8,
      "outputs": [
        {
          "output_type": "display_data",
          "data": {
            "text/plain": [
              "<Figure size 640x480 with 1 Axes>"
            ],
            "image/png": "[encoded data removed]"
          },
          "metadata": {}
        }
      ]
    },
    {
      "cell_type": "markdown",
      "source": [
        "##2개 층 연결하기"
      ],
      "metadata": {
        "id": "89farQaVrgDE"
      }
    },
    {
      "cell_type": "code",
      "source": [
        "model3 = keras.Sequential()\n",
        "\n",
        "model3.add(keras.layers.Embedding(500, 16, input_length=100))\n",
        "model3.add(keras.layers.LSTM(8, dropout=0.3, return_sequences=True))\n",
        "model3.add(keras.layers.LSTM(8, dropout=0.3))\n",
        "model3.add(keras.layers.Dense(1, activation='sigmoid'))\n",
        "\n",
        "model3.summary()"
      ],
      "metadata": {
        "colab": {
          "base_uri": "https://localhost:8080/"
        },
        "id": "Sjobul8drfN8",
        "outputId": "f6b8d260-e48f-4f32-c0aa-54c5ec47a306"
      },
      "execution_count": 9,
      "outputs": [
        {
          "output_type": "stream",
          "name": "stdout",
          "text": [
            "Model: \"sequential_2\"\n",
            "_________________________________________________________________\n",
            " Layer (type)                Output Shape              Param #   \n",
            "=================================================================\n",
            " embedding_2 (Embedding)     (None, 100, 16)           8000      \n",
            "                                                                 \n",
            " lstm_2 (LSTM)               (None, 100, 8)            800       \n",
            "                                                                 \n",
            " lstm_3 (LSTM)               (None, 8)                 544       \n",
            "                                                                 \n",
            " dense_2 (Dense)             (None, 1)                 9         \n",
            "                                                                 \n",
            "=================================================================\n",
            "Total params: 9353 (36.54 KB)\n",
            "Trainable params: 9353 (36.54 KB)\n",
            "Non-trainable params: 0 (0.00 Byte)\n",
            "_________________________________________________________________\n"
          ]
        }
      ]
    },
    {
      "cell_type": "code",
      "source": [
        "rmsprop = keras.optimizers.RMSprop(learning_rate=1e-4)\n",
        "model3.compile(optimizer=rmsprop, loss='binary_crossentropy',\n",
        "               metrics=['accuracy'])\n",
        "\n",
        "checkpoint_cb = keras.callbacks.ModelCheckpoint('best-2rnn-model.h5',\n",
        "                                                save_best_only=True)\n",
        "early_stopping_cb = keras.callbacks.EarlyStopping(patience=3,\n",
        "                                                  restore_best_weights=True)\n",
        "\n",
        "history = model3.fit(train_seq, train_target, epochs=100, batch_size=64,\n",
        "                     validation_data=(val_seq, val_target),\n",
        "                     callbacks=[checkpoint_cb, early_stopping_cb])"
      ],
      "metadata": {
        "colab": {
          "base_uri": "https://localhost:8080/"
        },
        "id": "I6iqTXqXri1i",
        "outputId": "ceeed020-021c-4f4f-db6e-8fd23c4e9f3d"
      },
      "execution_count": 10,
      "outputs": [
        {
          "output_type": "stream",
          "name": "stdout",
          "text": [
            "Epoch 1/100\n",
            "313/313 [==============================] - 35s 99ms/step - loss: 0.6928 - accuracy: 0.5225 - val_loss: 0.6922 - val_accuracy: 0.5684\n",
            "Epoch 2/100\n",
            "313/313 [==============================] - 31s 98ms/step - loss: 0.6906 - accuracy: 0.5780 - val_loss: 0.6879 - val_accuracy: 0.6156\n",
            "Epoch 3/100\n",
            "313/313 [==============================] - 30s 96ms/step - loss: 0.6747 - accuracy: 0.6449 - val_loss: 0.6475 - val_accuracy: 0.6580\n",
            "Epoch 4/100\n",
            "313/313 [==============================] - 29s 92ms/step - loss: 0.5951 - accuracy: 0.6972 - val_loss: 0.5570 - val_accuracy: 0.7256\n",
            "Epoch 5/100\n",
            "313/313 [==============================] - 29s 92ms/step - loss: 0.5451 - accuracy: 0.7302 - val_loss: 0.5274 - val_accuracy: 0.7460\n",
            "Epoch 6/100\n",
            "313/313 [==============================] - 29s 92ms/step - loss: 0.5140 - accuracy: 0.7548 - val_loss: 0.4971 - val_accuracy: 0.7602\n",
            "Epoch 7/100\n",
            "313/313 [==============================] - 29s 92ms/step - loss: 0.4970 - accuracy: 0.7631 - val_loss: 0.4820 - val_accuracy: 0.7714\n",
            "Epoch 8/100\n",
            "313/313 [==============================] - 29s 92ms/step - loss: 0.4834 - accuracy: 0.7691 - val_loss: 0.4735 - val_accuracy: 0.7748\n",
            "Epoch 9/100\n",
            "313/313 [==============================] - 29s 92ms/step - loss: 0.4755 - accuracy: 0.7735 - val_loss: 0.4663 - val_accuracy: 0.7818\n",
            "Epoch 10/100\n",
            "313/313 [==============================] - 31s 99ms/step - loss: 0.4684 - accuracy: 0.7786 - val_loss: 0.4610 - val_accuracy: 0.7866\n",
            "Epoch 11/100\n",
            "313/313 [==============================] - 29s 92ms/step - loss: 0.4608 - accuracy: 0.7849 - val_loss: 0.4563 - val_accuracy: 0.7896\n",
            "Epoch 12/100\n",
            "313/313 [==============================] - 29s 93ms/step - loss: 0.4582 - accuracy: 0.7861 - val_loss: 0.4531 - val_accuracy: 0.7894\n",
            "Epoch 13/100\n",
            "313/313 [==============================] - 29s 93ms/step - loss: 0.4548 - accuracy: 0.7862 - val_loss: 0.4529 - val_accuracy: 0.7904\n",
            "Epoch 14/100\n",
            "313/313 [==============================] - 30s 96ms/step - loss: 0.4506 - accuracy: 0.7913 - val_loss: 0.4484 - val_accuracy: 0.7928\n",
            "Epoch 15/100\n",
            "313/313 [==============================] - 29s 93ms/step - loss: 0.4475 - accuracy: 0.7969 - val_loss: 0.4469 - val_accuracy: 0.7928\n",
            "Epoch 16/100\n",
            "313/313 [==============================] - 30s 96ms/step - loss: 0.4466 - accuracy: 0.7925 - val_loss: 0.4464 - val_accuracy: 0.7936\n",
            "Epoch 17/100\n",
            "313/313 [==============================] - 31s 98ms/step - loss: 0.4448 - accuracy: 0.7942 - val_loss: 0.4447 - val_accuracy: 0.7942\n",
            "Epoch 18/100\n",
            "313/313 [==============================] - 32s 103ms/step - loss: 0.4430 - accuracy: 0.7946 - val_loss: 0.4439 - val_accuracy: 0.7950\n",
            "Epoch 19/100\n",
            "313/313 [==============================] - 29s 93ms/step - loss: 0.4381 - accuracy: 0.7988 - val_loss: 0.4487 - val_accuracy: 0.7902\n",
            "Epoch 20/100\n",
            "313/313 [==============================] - 30s 97ms/step - loss: 0.4378 - accuracy: 0.7995 - val_loss: 0.4429 - val_accuracy: 0.7950\n",
            "Epoch 21/100\n",
            "313/313 [==============================] - 29s 94ms/step - loss: 0.4371 - accuracy: 0.7985 - val_loss: 0.4427 - val_accuracy: 0.7932\n",
            "Epoch 22/100\n",
            "313/313 [==============================] - 29s 94ms/step - loss: 0.4365 - accuracy: 0.7976 - val_loss: 0.4406 - val_accuracy: 0.7956\n",
            "Epoch 23/100\n",
            "313/313 [==============================] - 31s 98ms/step - loss: 0.4344 - accuracy: 0.8004 - val_loss: 0.4428 - val_accuracy: 0.7924\n",
            "Epoch 24/100\n",
            "313/313 [==============================] - 31s 98ms/step - loss: 0.4320 - accuracy: 0.8030 - val_loss: 0.4396 - val_accuracy: 0.7938\n",
            "Epoch 25/100\n",
            "313/313 [==============================] - 31s 101ms/step - loss: 0.4331 - accuracy: 0.7994 - val_loss: 0.4387 - val_accuracy: 0.7932\n",
            "Epoch 26/100\n",
            "313/313 [==============================] - 32s 104ms/step - loss: 0.4324 - accuracy: 0.8047 - val_loss: 0.4384 - val_accuracy: 0.7948\n",
            "Epoch 27/100\n",
            "313/313 [==============================] - 29s 93ms/step - loss: 0.4310 - accuracy: 0.8043 - val_loss: 0.4411 - val_accuracy: 0.7898\n",
            "Epoch 28/100\n",
            "313/313 [==============================] - 32s 102ms/step - loss: 0.4307 - accuracy: 0.8008 - val_loss: 0.4407 - val_accuracy: 0.7894\n",
            "Epoch 29/100\n",
            "313/313 [==============================] - 31s 98ms/step - loss: 0.4279 - accuracy: 0.8044 - val_loss: 0.4369 - val_accuracy: 0.7948\n",
            "Epoch 30/100\n",
            "313/313 [==============================] - 31s 99ms/step - loss: 0.4286 - accuracy: 0.8042 - val_loss: 0.4371 - val_accuracy: 0.7964\n",
            "Epoch 31/100\n",
            "313/313 [==============================] - 30s 95ms/step - loss: 0.4275 - accuracy: 0.8065 - val_loss: 0.4468 - val_accuracy: 0.7928\n",
            "Epoch 32/100\n",
            "313/313 [==============================] - 31s 98ms/step - loss: 0.4270 - accuracy: 0.8052 - val_loss: 0.4379 - val_accuracy: 0.7932\n"
          ]
        }
      ]
    },
    {
      "cell_type": "code",
      "source": [
        "plt.plot(history.history['loss'])\n",
        "plt.plot(history.history['val_loss'])\n",
        "plt.xlabel('epoch')\n",
        "plt.ylabel('loss')\n",
        "plt.legend(['train', 'val'])\n",
        "plt.show()"
      ],
      "metadata": {
        "colab": {
          "base_uri": "https://localhost:8080/",
          "height": 449
        },
        "id": "0dmqzgWNrj5P",
        "outputId": "46ab2c07-b704-433d-a190-37901ca3086e"
      },
      "execution_count": 11,
      "outputs": [
        {
          "output_type": "display_data",
          "data": {
            "text/plain": [
              "<Figure size 640x480 with 1 Axes>"
            ],
            "image/png": "[encoded data removed]"
          },
          "metadata": {}
        }
      ]
    },
    {
      "cell_type": "markdown",
      "source": [
        "##GRU 신경망 훈련하기"
      ],
      "metadata": {
        "id": "XJs3VsPTrnIr"
      }
    },
    {
      "cell_type": "code",
      "source": [
        "model4 = keras.Sequential()\n",
        "\n",
        "model4.add(keras.layers.Embedding(500, 16, input_length=100))\n",
        "model4.add(keras.layers.GRU(8))\n",
        "model4.add(keras.layers.Dense(1, activation='sigmoid'))\n",
        "\n",
        "model4.summary()"
      ],
      "metadata": {
        "colab": {
          "base_uri": "https://localhost:8080/"
        },
        "id": "0gZfrz0yrlTV",
        "outputId": "19de6b92-58ed-42ba-f2b0-3f15fe35c68d"
      },
      "execution_count": 12,
      "outputs": [
        {
          "output_type": "stream",
          "name": "stdout",
          "text": [
            "Model: \"sequential_3\"\n",
            "_________________________________________________________________\n",
            " Layer (type)                Output Shape              Param #   \n",
            "=================================================================\n",
            " embedding_3 (Embedding)     (None, 100, 16)           8000      \n",
            "                                                                 \n",
            " gru (GRU)                   (None, 8)                 624       \n",
            "                                                                 \n",
            " dense_3 (Dense)             (None, 1)                 9         \n",
            "                                                                 \n",
            "=================================================================\n",
            "Total params: 8633 (33.72 KB)\n",
            "Trainable params: 8633 (33.72 KB)\n",
            "Non-trainable params: 0 (0.00 Byte)\n",
            "_________________________________________________________________\n"
          ]
        }
      ]
    },
    {
      "cell_type": "code",
      "source": [
        "rmsprop = keras.optimizers.RMSprop(learning_rate=1e-4)\n",
        "model4.compile(optimizer=rmsprop, loss='binary_crossentropy',\n",
        "               metrics=['accuracy'])\n",
        "\n",
        "checkpoint_cb = keras.callbacks.ModelCheckpoint('best-gru-model.h5',\n",
        "                                                save_best_only=True)\n",
        "early_stopping_cb = keras.callbacks.EarlyStopping(patience=3,\n",
        "                                                  restore_best_weights=True)\n",
        "\n",
        "history = model4.fit(train_seq, train_target, epochs=100, batch_size=64,\n",
        "                     validation_data=(val_seq, val_target),\n",
        "                     callbacks=[checkpoint_cb, early_stopping_cb])"
      ],
      "metadata": {
        "colab": {
          "base_uri": "https://localhost:8080/"
        },
        "id": "mkBCh6ZOrqP9",
        "outputId": "8a43059c-8f5e-47a5-92da-0737cba72138"
      },
      "execution_count": 13,
      "outputs": [
        {
          "output_type": "stream",
          "name": "stdout",
          "text": [
            "Epoch 1/100\n",
            "313/313 [==============================] - 22s 58ms/step - loss: 0.6927 - accuracy: 0.5160 - val_loss: 0.6921 - val_accuracy: 0.5328\n",
            "Epoch 2/100\n",
            "313/313 [==============================] - 19s 60ms/step - loss: 0.6912 - accuracy: 0.5544 - val_loss: 0.6904 - val_accuracy: 0.5564\n",
            "Epoch 3/100\n",
            "313/313 [==============================] - 17s 55ms/step - loss: 0.6889 - accuracy: 0.5832 - val_loss: 0.6877 - val_accuracy: 0.5762\n",
            "Epoch 4/100\n",
            "313/313 [==============================] - 17s 54ms/step - loss: 0.6851 - accuracy: 0.5985 - val_loss: 0.6830 - val_accuracy: 0.5970\n",
            "Epoch 5/100\n",
            "313/313 [==============================] - 18s 57ms/step - loss: 0.6790 - accuracy: 0.6112 - val_loss: 0.6762 - val_accuracy: 0.6058\n",
            "Epoch 6/100\n",
            "313/313 [==============================] - 17s 55ms/step - loss: 0.6696 - accuracy: 0.6283 - val_loss: 0.6652 - val_accuracy: 0.6258\n",
            "Epoch 7/100\n",
            "313/313 [==============================] - 17s 56ms/step - loss: 0.6554 - accuracy: 0.6432 - val_loss: 0.6488 - val_accuracy: 0.6394\n",
            "Epoch 8/100\n",
            "313/313 [==============================] - 18s 56ms/step - loss: 0.6334 - accuracy: 0.6627 - val_loss: 0.6233 - val_accuracy: 0.6636\n",
            "Epoch 9/100\n",
            "313/313 [==============================] - 17s 56ms/step - loss: 0.5968 - accuracy: 0.6876 - val_loss: 0.5788 - val_accuracy: 0.7102\n",
            "Epoch 10/100\n",
            "313/313 [==============================] - 18s 56ms/step - loss: 0.5366 - accuracy: 0.7322 - val_loss: 0.5215 - val_accuracy: 0.7458\n",
            "Epoch 11/100\n",
            "313/313 [==============================] - 18s 58ms/step - loss: 0.4986 - accuracy: 0.7596 - val_loss: 0.5014 - val_accuracy: 0.7594\n",
            "Epoch 12/100\n",
            "313/313 [==============================] - 17s 54ms/step - loss: 0.4803 - accuracy: 0.7732 - val_loss: 0.4838 - val_accuracy: 0.7710\n",
            "Epoch 13/100\n",
            "313/313 [==============================] - 17s 55ms/step - loss: 0.4666 - accuracy: 0.7817 - val_loss: 0.4738 - val_accuracy: 0.7732\n",
            "Epoch 14/100\n",
            "313/313 [==============================] - 17s 53ms/step - loss: 0.4569 - accuracy: 0.7886 - val_loss: 0.4693 - val_accuracy: 0.7806\n",
            "Epoch 15/100\n",
            "313/313 [==============================] - 19s 62ms/step - loss: 0.4490 - accuracy: 0.7939 - val_loss: 0.4615 - val_accuracy: 0.7824\n",
            "Epoch 16/100\n",
            "313/313 [==============================] - 17s 56ms/step - loss: 0.4429 - accuracy: 0.7983 - val_loss: 0.4579 - val_accuracy: 0.7882\n",
            "Epoch 17/100\n",
            "313/313 [==============================] - 18s 58ms/step - loss: 0.4382 - accuracy: 0.8008 - val_loss: 0.4549 - val_accuracy: 0.7884\n",
            "Epoch 18/100\n",
            "313/313 [==============================] - 17s 56ms/step - loss: 0.4341 - accuracy: 0.8044 - val_loss: 0.4518 - val_accuracy: 0.7902\n",
            "Epoch 19/100\n",
            "313/313 [==============================] - 17s 54ms/step - loss: 0.4307 - accuracy: 0.8077 - val_loss: 0.4554 - val_accuracy: 0.7906\n",
            "Epoch 20/100\n",
            "313/313 [==============================] - 17s 55ms/step - loss: 0.4285 - accuracy: 0.8078 - val_loss: 0.4489 - val_accuracy: 0.7922\n",
            "Epoch 21/100\n",
            "313/313 [==============================] - 17s 55ms/step - loss: 0.4262 - accuracy: 0.8104 - val_loss: 0.4477 - val_accuracy: 0.7932\n",
            "Epoch 22/100\n",
            "313/313 [==============================] - 17s 55ms/step - loss: 0.4245 - accuracy: 0.8113 - val_loss: 0.4476 - val_accuracy: 0.7916\n",
            "Epoch 23/100\n",
            "313/313 [==============================] - 18s 57ms/step - loss: 0.4229 - accuracy: 0.8116 - val_loss: 0.4471 - val_accuracy: 0.7938\n",
            "Epoch 24/100\n",
            "313/313 [==============================] - 18s 56ms/step - loss: 0.4224 - accuracy: 0.8134 - val_loss: 0.4452 - val_accuracy: 0.7928\n",
            "Epoch 25/100\n",
            "313/313 [==============================] - 17s 55ms/step - loss: 0.4209 - accuracy: 0.8132 - val_loss: 0.4446 - val_accuracy: 0.7932\n",
            "Epoch 26/100\n",
            "313/313 [==============================] - 17s 55ms/step - loss: 0.4197 - accuracy: 0.8134 - val_loss: 0.4454 - val_accuracy: 0.7962\n",
            "Epoch 27/100\n",
            "313/313 [==============================] - 17s 56ms/step - loss: 0.4192 - accuracy: 0.8135 - val_loss: 0.4449 - val_accuracy: 0.7956\n",
            "Epoch 28/100\n",
            "313/313 [==============================] - 20s 64ms/step - loss: 0.4183 - accuracy: 0.8151 - val_loss: 0.4440 - val_accuracy: 0.7930\n",
            "Epoch 29/100\n",
            "313/313 [==============================] - 18s 57ms/step - loss: 0.4180 - accuracy: 0.8130 - val_loss: 0.4437 - val_accuracy: 0.7942\n",
            "Epoch 30/100\n",
            "313/313 [==============================] - 17s 55ms/step - loss: 0.4172 - accuracy: 0.8145 - val_loss: 0.4472 - val_accuracy: 0.7870\n",
            "Epoch 31/100\n",
            "313/313 [==============================] - 17s 55ms/step - loss: 0.4167 - accuracy: 0.8155 - val_loss: 0.4428 - val_accuracy: 0.7964\n",
            "Epoch 32/100\n",
            "313/313 [==============================] - 17s 55ms/step - loss: 0.4163 - accuracy: 0.8158 - val_loss: 0.4419 - val_accuracy: 0.7976\n",
            "Epoch 33/100\n",
            "313/313 [==============================] - 17s 55ms/step - loss: 0.4159 - accuracy: 0.8143 - val_loss: 0.4439 - val_accuracy: 0.7970\n",
            "Epoch 34/100\n",
            "313/313 [==============================] - 18s 57ms/step - loss: 0.4160 - accuracy: 0.8146 - val_loss: 0.4415 - val_accuracy: 0.7952\n",
            "Epoch 35/100\n",
            "313/313 [==============================] - 18s 57ms/step - loss: 0.4153 - accuracy: 0.8144 - val_loss: 0.4406 - val_accuracy: 0.7972\n",
            "Epoch 36/100\n",
            "313/313 [==============================] - 17s 55ms/step - loss: 0.4151 - accuracy: 0.8149 - val_loss: 0.4425 - val_accuracy: 0.7952\n",
            "Epoch 37/100\n",
            "313/313 [==============================] - 17s 55ms/step - loss: 0.4147 - accuracy: 0.8151 - val_loss: 0.4418 - val_accuracy: 0.7934\n",
            "Epoch 38/100\n",
            "313/313 [==============================] - 17s 53ms/step - loss: 0.4142 - accuracy: 0.8148 - val_loss: 0.4407 - val_accuracy: 0.7952\n"
          ]
        }
      ]
    },
    {
      "cell_type": "code",
      "source": [
        "plt.plot(history.history['loss'])\n",
        "plt.plot(history.history['val_loss'])\n",
        "plt.xlabel('epoch')\n",
        "plt.ylabel('loss')\n",
        "plt.legend(['train', 'val'])\n",
        "plt.show()"
      ],
      "metadata": {
        "colab": {
          "base_uri": "https://localhost:8080/",
          "height": 449
        },
        "id": "U9XcK315rrRX",
        "outputId": "51a79a0e-65f9-4610-e510-56ccf39c32b0"
      },
      "execution_count": 14,
      "outputs": [
        {
          "output_type": "display_data",
          "data": {
            "text/plain": [
              "<Figure size 640x480 with 1 Axes>"
            ],
            "image/png": "[encoded data removed]"
          },
          "metadata": {}
        }
      ]
    },
    {
      "cell_type": "code",
      "source": [
        "test_seq = pad_sequences(test_input, maxlen=100)\n",
        "\n",
        "rnn_model = keras.models.load_model('best-2rnn-model.h5')\n",
        "\n",
        "rnn_model.evaluate(test_seq, test_target)"
      ],
      "metadata": {
        "colab": {
          "base_uri": "https://localhost:8080/"
        },
        "id": "XT1T__rrrsce",
        "outputId": "87dbec1a-b5f5-49bf-feb3-07f24e0fed9a"
      },
      "execution_count": 15,
      "outputs": [
        {
          "output_type": "stream",
          "name": "stdout",
          "text": [
            "782/782 [==============================] - 15s 17ms/step - loss: 0.4314 - accuracy: 0.7982\n"
          ]
        },
        {
          "output_type": "execute_result",
          "data": {
            "text/plain": [
              "[0.4313967227935791, 0.7981600165367126]"
            ]
          },
          "metadata": {},
          "execution_count": 15
        }
      ]
    },
    {
      "cell_type": "code",
      "source": [],
      "metadata": {
        "id": "_o81BmQjruEr"
      },
      "execution_count": null,
      "outputs": []
    }
  ]
}